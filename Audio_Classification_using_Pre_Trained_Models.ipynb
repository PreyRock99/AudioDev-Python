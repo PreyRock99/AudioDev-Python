{
  "nbformat": 4,
  "nbformat_minor": 0,
  "metadata": {
    "colab": {
      "provenance": [],
      "gpuType": "T4"
    },
    "kernelspec": {
      "name": "python3",
      "display_name": "Python 3"
    },
    "language_info": {
      "name": "python"
    },
    "accelerator": "GPU",
    "widgets": {
      "application/vnd.jupyter.widget-state+json": {
        "c1ceb8d825ac4bdaa32e9362fc00767c": {
          "model_module": "@jupyter-widgets/controls",
          "model_name": "HBoxModel",
          "model_module_version": "1.5.0",
          "state": {
            "_dom_classes": [],
            "_model_module": "@jupyter-widgets/controls",
            "_model_module_version": "1.5.0",
            "_model_name": "HBoxModel",
            "_view_count": null,
            "_view_module": "@jupyter-widgets/controls",
            "_view_module_version": "1.5.0",
            "_view_name": "HBoxView",
            "box_style": "",
            "children": [
              "IPY_MODEL_530e93ca3cb24a0cbb3aab33269ae422",
              "IPY_MODEL_37d3a0fbdc3e48dfafb5eeebfb7463c6",
              "IPY_MODEL_679bcaede5d3473c84fd6b3090368cb7"
            ],
            "layout": "IPY_MODEL_e6a082e0d61943a08a0a7b31f00a0a38"
          }
        },
        "530e93ca3cb24a0cbb3aab33269ae422": {
          "model_module": "@jupyter-widgets/controls",
          "model_name": "HTMLModel",
          "model_module_version": "1.5.0",
          "state": {
            "_dom_classes": [],
            "_model_module": "@jupyter-widgets/controls",
            "_model_module_version": "1.5.0",
            "_model_name": "HTMLModel",
            "_view_count": null,
            "_view_module": "@jupyter-widgets/controls",
            "_view_module_version": "1.5.0",
            "_view_name": "HTMLView",
            "description": "",
            "description_tooltip": null,
            "layout": "IPY_MODEL_79a2a2c72a6d428d80263ec06cba285f",
            "placeholder": "​",
            "style": "IPY_MODEL_008c6c6beb7d47fb81b110d8a17fab85",
            "value": "Downloading builder script: 100%"
          }
        },
        "37d3a0fbdc3e48dfafb5eeebfb7463c6": {
          "model_module": "@jupyter-widgets/controls",
          "model_name": "FloatProgressModel",
          "model_module_version": "1.5.0",
          "state": {
            "_dom_classes": [],
            "_model_module": "@jupyter-widgets/controls",
            "_model_module_version": "1.5.0",
            "_model_name": "FloatProgressModel",
            "_view_count": null,
            "_view_module": "@jupyter-widgets/controls",
            "_view_module_version": "1.5.0",
            "_view_name": "ProgressView",
            "bar_style": "success",
            "description": "",
            "description_tooltip": null,
            "layout": "IPY_MODEL_92aea2ae0ea64dd591bbdf6d7142cc50",
            "max": 7312,
            "min": 0,
            "orientation": "horizontal",
            "style": "IPY_MODEL_da5365e0264141e09d5c745c44c7f432",
            "value": 7312
          }
        },
        "679bcaede5d3473c84fd6b3090368cb7": {
          "model_module": "@jupyter-widgets/controls",
          "model_name": "HTMLModel",
          "model_module_version": "1.5.0",
          "state": {
            "_dom_classes": [],
            "_model_module": "@jupyter-widgets/controls",
            "_model_module_version": "1.5.0",
            "_model_name": "HTMLModel",
            "_view_count": null,
            "_view_module": "@jupyter-widgets/controls",
            "_view_module_version": "1.5.0",
            "_view_name": "HTMLView",
            "description": "",
            "description_tooltip": null,
            "layout": "IPY_MODEL_d9486e3d1a644305bcd85f2969aa57ec",
            "placeholder": "​",
            "style": "IPY_MODEL_cb572bf2534d4e30b6ecf119d2ad7a7b",
            "value": " 7.31k/7.31k [00:00&lt;00:00, 6.12kB/s]"
          }
        },
        "e6a082e0d61943a08a0a7b31f00a0a38": {
          "model_module": "@jupyter-widgets/base",
          "model_name": "LayoutModel",
          "model_module_version": "1.2.0",
          "state": {
            "_model_module": "@jupyter-widgets/base",
            "_model_module_version": "1.2.0",
            "_model_name": "LayoutModel",
            "_view_count": null,
            "_view_module": "@jupyter-widgets/base",
            "_view_module_version": "1.2.0",
            "_view_name": "LayoutView",
            "align_content": null,
            "align_items": null,
            "align_self": null,
            "border": null,
            "bottom": null,
            "display": null,
            "flex": null,
            "flex_flow": null,
            "grid_area": null,
            "grid_auto_columns": null,
            "grid_auto_flow": null,
            "grid_auto_rows": null,
            "grid_column": null,
            "grid_gap": null,
            "grid_row": null,
            "grid_template_areas": null,
            "grid_template_columns": null,
            "grid_template_rows": null,
            "height": null,
            "justify_content": null,
            "justify_items": null,
            "left": null,
            "margin": null,
            "max_height": null,
            "max_width": null,
            "min_height": null,
            "min_width": null,
            "object_fit": null,
            "object_position": null,
            "order": null,
            "overflow": null,
            "overflow_x": null,
            "overflow_y": null,
            "padding": null,
            "right": null,
            "top": null,
            "visibility": null,
            "width": null
          }
        },
        "79a2a2c72a6d428d80263ec06cba285f": {
          "model_module": "@jupyter-widgets/base",
          "model_name": "LayoutModel",
          "model_module_version": "1.2.0",
          "state": {
            "_model_module": "@jupyter-widgets/base",
            "_model_module_version": "1.2.0",
            "_model_name": "LayoutModel",
            "_view_count": null,
            "_view_module": "@jupyter-widgets/base",
            "_view_module_version": "1.2.0",
            "_view_name": "LayoutView",
            "align_content": null,
            "align_items": null,
            "align_self": null,
            "border": null,
            "bottom": null,
            "display": null,
            "flex": null,
            "flex_flow": null,
            "grid_area": null,
            "grid_auto_columns": null,
            "grid_auto_flow": null,
            "grid_auto_rows": null,
            "grid_column": null,
            "grid_gap": null,
            "grid_row": null,
            "grid_template_areas": null,
            "grid_template_columns": null,
            "grid_template_rows": null,
            "height": null,
            "justify_content": null,
            "justify_items": null,
            "left": null,
            "margin": null,
            "max_height": null,
            "max_width": null,
            "min_height": null,
            "min_width": null,
            "object_fit": null,
            "object_position": null,
            "order": null,
            "overflow": null,
            "overflow_x": null,
            "overflow_y": null,
            "padding": null,
            "right": null,
            "top": null,
            "visibility": null,
            "width": null
          }
        },
        "008c6c6beb7d47fb81b110d8a17fab85": {
          "model_module": "@jupyter-widgets/controls",
          "model_name": "DescriptionStyleModel",
          "model_module_version": "1.5.0",
          "state": {
            "_model_module": "@jupyter-widgets/controls",
            "_model_module_version": "1.5.0",
            "_model_name": "DescriptionStyleModel",
            "_view_count": null,
            "_view_module": "@jupyter-widgets/base",
            "_view_module_version": "1.2.0",
            "_view_name": "StyleView",
            "description_width": ""
          }
        },
        "92aea2ae0ea64dd591bbdf6d7142cc50": {
          "model_module": "@jupyter-widgets/base",
          "model_name": "LayoutModel",
          "model_module_version": "1.2.0",
          "state": {
            "_model_module": "@jupyter-widgets/base",
            "_model_module_version": "1.2.0",
            "_model_name": "LayoutModel",
            "_view_count": null,
            "_view_module": "@jupyter-widgets/base",
            "_view_module_version": "1.2.0",
            "_view_name": "LayoutView",
            "align_content": null,
            "align_items": null,
            "align_self": null,
            "border": null,
            "bottom": null,
            "display": null,
            "flex": null,
            "flex_flow": null,
            "grid_area": null,
            "grid_auto_columns": null,
            "grid_auto_flow": null,
            "grid_auto_rows": null,
            "grid_column": null,
            "grid_gap": null,
            "grid_row": null,
            "grid_template_areas": null,
            "grid_template_columns": null,
            "grid_template_rows": null,
            "height": null,
            "justify_content": null,
            "justify_items": null,
            "left": null,
            "margin": null,
            "max_height": null,
            "max_width": null,
            "min_height": null,
            "min_width": null,
            "object_fit": null,
            "object_position": null,
            "order": null,
            "overflow": null,
            "overflow_x": null,
            "overflow_y": null,
            "padding": null,
            "right": null,
            "top": null,
            "visibility": null,
            "width": null
          }
        },
        "da5365e0264141e09d5c745c44c7f432": {
          "model_module": "@jupyter-widgets/controls",
          "model_name": "ProgressStyleModel",
          "model_module_version": "1.5.0",
          "state": {
            "_model_module": "@jupyter-widgets/controls",
            "_model_module_version": "1.5.0",
            "_model_name": "ProgressStyleModel",
            "_view_count": null,
            "_view_module": "@jupyter-widgets/base",
            "_view_module_version": "1.2.0",
            "_view_name": "StyleView",
            "bar_color": null,
            "description_width": ""
          }
        },
        "d9486e3d1a644305bcd85f2969aa57ec": {
          "model_module": "@jupyter-widgets/base",
          "model_name": "LayoutModel",
          "model_module_version": "1.2.0",
          "state": {
            "_model_module": "@jupyter-widgets/base",
            "_model_module_version": "1.2.0",
            "_model_name": "LayoutModel",
            "_view_count": null,
            "_view_module": "@jupyter-widgets/base",
            "_view_module_version": "1.2.0",
            "_view_name": "LayoutView",
            "align_content": null,
            "align_items": null,
            "align_self": null,
            "border": null,
            "bottom": null,
            "display": null,
            "flex": null,
            "flex_flow": null,
            "grid_area": null,
            "grid_auto_columns": null,
            "grid_auto_flow": null,
            "grid_auto_rows": null,
            "grid_column": null,
            "grid_gap": null,
            "grid_row": null,
            "grid_template_areas": null,
            "grid_template_columns": null,
            "grid_template_rows": null,
            "height": null,
            "justify_content": null,
            "justify_items": null,
            "left": null,
            "margin": null,
            "max_height": null,
            "max_width": null,
            "min_height": null,
            "min_width": null,
            "object_fit": null,
            "object_position": null,
            "order": null,
            "overflow": null,
            "overflow_x": null,
            "overflow_y": null,
            "padding": null,
            "right": null,
            "top": null,
            "visibility": null,
            "width": null
          }
        },
        "cb572bf2534d4e30b6ecf119d2ad7a7b": {
          "model_module": "@jupyter-widgets/controls",
          "model_name": "DescriptionStyleModel",
          "model_module_version": "1.5.0",
          "state": {
            "_model_module": "@jupyter-widgets/controls",
            "_model_module_version": "1.5.0",
            "_model_name": "DescriptionStyleModel",
            "_view_count": null,
            "_view_module": "@jupyter-widgets/base",
            "_view_module_version": "1.2.0",
            "_view_name": "StyleView",
            "description_width": ""
          }
        },
        "12ad8c6f75d64cd296049642df815670": {
          "model_module": "@jupyter-widgets/controls",
          "model_name": "HBoxModel",
          "model_module_version": "1.5.0",
          "state": {
            "_dom_classes": [],
            "_model_module": "@jupyter-widgets/controls",
            "_model_module_version": "1.5.0",
            "_model_name": "HBoxModel",
            "_view_count": null,
            "_view_module": "@jupyter-widgets/controls",
            "_view_module_version": "1.5.0",
            "_view_name": "HBoxView",
            "box_style": "",
            "children": [
              "IPY_MODEL_550e106e2684460a882a4f8c9a0a1aa1",
              "IPY_MODEL_04e4ebe5785a4e6a9ec1ad6a8738a590",
              "IPY_MODEL_e689519dfc8040bfa27cfc03a9605f1f"
            ],
            "layout": "IPY_MODEL_c0bc6c7f08c04c389ef479163c5347c7"
          }
        },
        "550e106e2684460a882a4f8c9a0a1aa1": {
          "model_module": "@jupyter-widgets/controls",
          "model_name": "HTMLModel",
          "model_module_version": "1.5.0",
          "state": {
            "_dom_classes": [],
            "_model_module": "@jupyter-widgets/controls",
            "_model_module_version": "1.5.0",
            "_model_name": "HTMLModel",
            "_view_count": null,
            "_view_module": "@jupyter-widgets/controls",
            "_view_module_version": "1.5.0",
            "_view_name": "HTMLView",
            "description": "",
            "description_tooltip": null,
            "layout": "IPY_MODEL_1274ce62576d417e9765a7417dcbfb88",
            "placeholder": "​",
            "style": "IPY_MODEL_fae01864b5734e04966fe9b7598ccd1c",
            "value": "Downloading readme: 100%"
          }
        },
        "04e4ebe5785a4e6a9ec1ad6a8738a590": {
          "model_module": "@jupyter-widgets/controls",
          "model_name": "FloatProgressModel",
          "model_module_version": "1.5.0",
          "state": {
            "_dom_classes": [],
            "_model_module": "@jupyter-widgets/controls",
            "_model_module_version": "1.5.0",
            "_model_name": "FloatProgressModel",
            "_view_count": null,
            "_view_module": "@jupyter-widgets/controls",
            "_view_module_version": "1.5.0",
            "_view_name": "ProgressView",
            "bar_style": "success",
            "description": "",
            "description_tooltip": null,
            "layout": "IPY_MODEL_ac745e81363a400d8ec4296c8a9be642",
            "max": 12076,
            "min": 0,
            "orientation": "horizontal",
            "style": "IPY_MODEL_456aff249176482cad716f5c31bbd27e",
            "value": 12076
          }
        },
        "e689519dfc8040bfa27cfc03a9605f1f": {
          "model_module": "@jupyter-widgets/controls",
          "model_name": "HTMLModel",
          "model_module_version": "1.5.0",
          "state": {
            "_dom_classes": [],
            "_model_module": "@jupyter-widgets/controls",
            "_model_module_version": "1.5.0",
            "_model_name": "HTMLModel",
            "_view_count": null,
            "_view_module": "@jupyter-widgets/controls",
            "_view_module_version": "1.5.0",
            "_view_name": "HTMLView",
            "description": "",
            "description_tooltip": null,
            "layout": "IPY_MODEL_0df9a0ca6d0149ea919a8b2a8e675c06",
            "placeholder": "​",
            "style": "IPY_MODEL_976596cf00294c599a6cf1b98d3dd241",
            "value": " 12.1k/12.1k [00:00&lt;00:00, 6.34kB/s]"
          }
        },
        "c0bc6c7f08c04c389ef479163c5347c7": {
          "model_module": "@jupyter-widgets/base",
          "model_name": "LayoutModel",
          "model_module_version": "1.2.0",
          "state": {
            "_model_module": "@jupyter-widgets/base",
            "_model_module_version": "1.2.0",
            "_model_name": "LayoutModel",
            "_view_count": null,
            "_view_module": "@jupyter-widgets/base",
            "_view_module_version": "1.2.0",
            "_view_name": "LayoutView",
            "align_content": null,
            "align_items": null,
            "align_self": null,
            "border": null,
            "bottom": null,
            "display": null,
            "flex": null,
            "flex_flow": null,
            "grid_area": null,
            "grid_auto_columns": null,
            "grid_auto_flow": null,
            "grid_auto_rows": null,
            "grid_column": null,
            "grid_gap": null,
            "grid_row": null,
            "grid_template_areas": null,
            "grid_template_columns": null,
            "grid_template_rows": null,
            "height": null,
            "justify_content": null,
            "justify_items": null,
            "left": null,
            "margin": null,
            "max_height": null,
            "max_width": null,
            "min_height": null,
            "min_width": null,
            "object_fit": null,
            "object_position": null,
            "order": null,
            "overflow": null,
            "overflow_x": null,
            "overflow_y": null,
            "padding": null,
            "right": null,
            "top": null,
            "visibility": null,
            "width": null
          }
        },
        "1274ce62576d417e9765a7417dcbfb88": {
          "model_module": "@jupyter-widgets/base",
          "model_name": "LayoutModel",
          "model_module_version": "1.2.0",
          "state": {
            "_model_module": "@jupyter-widgets/base",
            "_model_module_version": "1.2.0",
            "_model_name": "LayoutModel",
            "_view_count": null,
            "_view_module": "@jupyter-widgets/base",
            "_view_module_version": "1.2.0",
            "_view_name": "LayoutView",
            "align_content": null,
            "align_items": null,
            "align_self": null,
            "border": null,
            "bottom": null,
            "display": null,
            "flex": null,
            "flex_flow": null,
            "grid_area": null,
            "grid_auto_columns": null,
            "grid_auto_flow": null,
            "grid_auto_rows": null,
            "grid_column": null,
            "grid_gap": null,
            "grid_row": null,
            "grid_template_areas": null,
            "grid_template_columns": null,
            "grid_template_rows": null,
            "height": null,
            "justify_content": null,
            "justify_items": null,
            "left": null,
            "margin": null,
            "max_height": null,
            "max_width": null,
            "min_height": null,
            "min_width": null,
            "object_fit": null,
            "object_position": null,
            "order": null,
            "overflow": null,
            "overflow_x": null,
            "overflow_y": null,
            "padding": null,
            "right": null,
            "top": null,
            "visibility": null,
            "width": null
          }
        },
        "fae01864b5734e04966fe9b7598ccd1c": {
          "model_module": "@jupyter-widgets/controls",
          "model_name": "DescriptionStyleModel",
          "model_module_version": "1.5.0",
          "state": {
            "_model_module": "@jupyter-widgets/controls",
            "_model_module_version": "1.5.0",
            "_model_name": "DescriptionStyleModel",
            "_view_count": null,
            "_view_module": "@jupyter-widgets/base",
            "_view_module_version": "1.2.0",
            "_view_name": "StyleView",
            "description_width": ""
          }
        },
        "ac745e81363a400d8ec4296c8a9be642": {
          "model_module": "@jupyter-widgets/base",
          "model_name": "LayoutModel",
          "model_module_version": "1.2.0",
          "state": {
            "_model_module": "@jupyter-widgets/base",
            "_model_module_version": "1.2.0",
            "_model_name": "LayoutModel",
            "_view_count": null,
            "_view_module": "@jupyter-widgets/base",
            "_view_module_version": "1.2.0",
            "_view_name": "LayoutView",
            "align_content": null,
            "align_items": null,
            "align_self": null,
            "border": null,
            "bottom": null,
            "display": null,
            "flex": null,
            "flex_flow": null,
            "grid_area": null,
            "grid_auto_columns": null,
            "grid_auto_flow": null,
            "grid_auto_rows": null,
            "grid_column": null,
            "grid_gap": null,
            "grid_row": null,
            "grid_template_areas": null,
            "grid_template_columns": null,
            "grid_template_rows": null,
            "height": null,
            "justify_content": null,
            "justify_items": null,
            "left": null,
            "margin": null,
            "max_height": null,
            "max_width": null,
            "min_height": null,
            "min_width": null,
            "object_fit": null,
            "object_position": null,
            "order": null,
            "overflow": null,
            "overflow_x": null,
            "overflow_y": null,
            "padding": null,
            "right": null,
            "top": null,
            "visibility": null,
            "width": null
          }
        },
        "456aff249176482cad716f5c31bbd27e": {
          "model_module": "@jupyter-widgets/controls",
          "model_name": "ProgressStyleModel",
          "model_module_version": "1.5.0",
          "state": {
            "_model_module": "@jupyter-widgets/controls",
            "_model_module_version": "1.5.0",
            "_model_name": "ProgressStyleModel",
            "_view_count": null,
            "_view_module": "@jupyter-widgets/base",
            "_view_module_version": "1.2.0",
            "_view_name": "StyleView",
            "bar_color": null,
            "description_width": ""
          }
        },
        "0df9a0ca6d0149ea919a8b2a8e675c06": {
          "model_module": "@jupyter-widgets/base",
          "model_name": "LayoutModel",
          "model_module_version": "1.2.0",
          "state": {
            "_model_module": "@jupyter-widgets/base",
            "_model_module_version": "1.2.0",
            "_model_name": "LayoutModel",
            "_view_count": null,
            "_view_module": "@jupyter-widgets/base",
            "_view_module_version": "1.2.0",
            "_view_name": "LayoutView",
            "align_content": null,
            "align_items": null,
            "align_self": null,
            "border": null,
            "bottom": null,
            "display": null,
            "flex": null,
            "flex_flow": null,
            "grid_area": null,
            "grid_auto_columns": null,
            "grid_auto_flow": null,
            "grid_auto_rows": null,
            "grid_column": null,
            "grid_gap": null,
            "grid_row": null,
            "grid_template_areas": null,
            "grid_template_columns": null,
            "grid_template_rows": null,
            "height": null,
            "justify_content": null,
            "justify_items": null,
            "left": null,
            "margin": null,
            "max_height": null,
            "max_width": null,
            "min_height": null,
            "min_width": null,
            "object_fit": null,
            "object_position": null,
            "order": null,
            "overflow": null,
            "overflow_x": null,
            "overflow_y": null,
            "padding": null,
            "right": null,
            "top": null,
            "visibility": null,
            "width": null
          }
        },
        "976596cf00294c599a6cf1b98d3dd241": {
          "model_module": "@jupyter-widgets/controls",
          "model_name": "DescriptionStyleModel",
          "model_module_version": "1.5.0",
          "state": {
            "_model_module": "@jupyter-widgets/controls",
            "_model_module_version": "1.5.0",
            "_model_name": "DescriptionStyleModel",
            "_view_count": null,
            "_view_module": "@jupyter-widgets/base",
            "_view_module_version": "1.2.0",
            "_view_name": "StyleView",
            "description_width": ""
          }
        }
      }
    }
  },
  "cells": [
    {
      "cell_type": "code",
      "execution_count": null,
      "metadata": {
        "colab": {
          "base_uri": "https://localhost:8080/"
        },
        "id": "cuKYgbkewKVC",
        "outputId": "222268ce-d6dc-4f85-cd2a-458a8e439b07"
      },
      "outputs": [
        {
          "output_type": "stream",
          "name": "stdout",
          "text": [
            "Collecting git+https://github.com/huggingface/transformers\n",
            "  Cloning https://github.com/huggingface/transformers to /tmp/pip-req-build-q8hj2vp0\n",
            "  Running command git clone --filter=blob:none --quiet https://github.com/huggingface/transformers /tmp/pip-req-build-q8hj2vp0\n",
            "  Resolved https://github.com/huggingface/transformers to commit b46bd8b9d2ac991c0c04674957ebc0a65fb3f42b\n",
            "  Installing build dependencies ... \u001b[?25l\u001b[?25hdone\n",
            "  Getting requirements to build wheel ... \u001b[?25l\u001b[?25hdone\n",
            "  Preparing metadata (pyproject.toml) ... \u001b[?25l\u001b[?25hdone\n",
            "Requirement already satisfied: filelock in /usr/local/lib/python3.10/dist-packages (from transformers==4.44.0.dev0) (3.15.4)\n",
            "Requirement already satisfied: huggingface-hub<1.0,>=0.23.2 in /usr/local/lib/python3.10/dist-packages (from transformers==4.44.0.dev0) (0.23.5)\n",
            "Requirement already satisfied: numpy>=1.17 in /usr/local/lib/python3.10/dist-packages (from transformers==4.44.0.dev0) (1.26.4)\n",
            "Requirement already satisfied: packaging>=20.0 in /usr/local/lib/python3.10/dist-packages (from transformers==4.44.0.dev0) (24.1)\n",
            "Requirement already satisfied: pyyaml>=5.1 in /usr/local/lib/python3.10/dist-packages (from transformers==4.44.0.dev0) (6.0.1)\n",
            "Requirement already satisfied: regex!=2019.12.17 in /usr/local/lib/python3.10/dist-packages (from transformers==4.44.0.dev0) (2024.5.15)\n",
            "Requirement already satisfied: requests in /usr/local/lib/python3.10/dist-packages (from transformers==4.44.0.dev0) (2.32.3)\n",
            "Requirement already satisfied: tokenizers<0.20,>=0.19 in /usr/local/lib/python3.10/dist-packages (from transformers==4.44.0.dev0) (0.19.1)\n",
            "Requirement already satisfied: safetensors>=0.4.1 in /usr/local/lib/python3.10/dist-packages (from transformers==4.44.0.dev0) (0.4.3)\n",
            "Requirement already satisfied: tqdm>=4.27 in /usr/local/lib/python3.10/dist-packages (from transformers==4.44.0.dev0) (4.66.4)\n",
            "Requirement already satisfied: fsspec>=2023.5.0 in /usr/local/lib/python3.10/dist-packages (from huggingface-hub<1.0,>=0.23.2->transformers==4.44.0.dev0) (2024.5.0)\n",
            "Requirement already satisfied: typing-extensions>=3.7.4.3 in /usr/local/lib/python3.10/dist-packages (from huggingface-hub<1.0,>=0.23.2->transformers==4.44.0.dev0) (4.12.2)\n",
            "Requirement already satisfied: charset-normalizer<4,>=2 in /usr/local/lib/python3.10/dist-packages (from requests->transformers==4.44.0.dev0) (3.3.2)\n",
            "Requirement already satisfied: idna<4,>=2.5 in /usr/local/lib/python3.10/dist-packages (from requests->transformers==4.44.0.dev0) (3.7)\n",
            "Requirement already satisfied: urllib3<3,>=1.21.1 in /usr/local/lib/python3.10/dist-packages (from requests->transformers==4.44.0.dev0) (2.0.7)\n",
            "Requirement already satisfied: certifi>=2017.4.17 in /usr/local/lib/python3.10/dist-packages (from requests->transformers==4.44.0.dev0) (2024.7.4)\n"
          ]
        }
      ],
      "source": [
        "!pip install git+https://github.com/huggingface/transformers"
      ]
    },
    {
      "cell_type": "code",
      "source": [
        "!pip install datasets\n"
      ],
      "metadata": {
        "colab": {
          "base_uri": "https://localhost:8080/"
        },
        "id": "bnm0u61Cw-pG",
        "outputId": "b96f36a5-0c5d-4612-f9ce-a4e89b2c7bf2"
      },
      "execution_count": null,
      "outputs": [
        {
          "output_type": "stream",
          "name": "stdout",
          "text": [
            "Requirement already satisfied: datasets in /usr/local/lib/python3.10/dist-packages (2.20.0)\n",
            "Requirement already satisfied: filelock in /usr/local/lib/python3.10/dist-packages (from datasets) (3.15.4)\n",
            "Requirement already satisfied: numpy>=1.17 in /usr/local/lib/python3.10/dist-packages (from datasets) (1.26.4)\n",
            "Requirement already satisfied: pyarrow>=15.0.0 in /usr/local/lib/python3.10/dist-packages (from datasets) (17.0.0)\n",
            "Requirement already satisfied: pyarrow-hotfix in /usr/local/lib/python3.10/dist-packages (from datasets) (0.6)\n",
            "Requirement already satisfied: dill<0.3.9,>=0.3.0 in /usr/local/lib/python3.10/dist-packages (from datasets) (0.3.8)\n",
            "Requirement already satisfied: pandas in /usr/local/lib/python3.10/dist-packages (from datasets) (2.1.4)\n",
            "Requirement already satisfied: requests>=2.32.2 in /usr/local/lib/python3.10/dist-packages (from datasets) (2.32.3)\n",
            "Requirement already satisfied: tqdm>=4.66.3 in /usr/local/lib/python3.10/dist-packages (from datasets) (4.66.4)\n",
            "Requirement already satisfied: xxhash in /usr/local/lib/python3.10/dist-packages (from datasets) (3.4.1)\n",
            "Requirement already satisfied: multiprocess in /usr/local/lib/python3.10/dist-packages (from datasets) (0.70.16)\n",
            "Requirement already satisfied: fsspec<=2024.5.0,>=2023.1.0 in /usr/local/lib/python3.10/dist-packages (from fsspec[http]<=2024.5.0,>=2023.1.0->datasets) (2024.5.0)\n",
            "Requirement already satisfied: aiohttp in /usr/local/lib/python3.10/dist-packages (from datasets) (3.9.5)\n",
            "Requirement already satisfied: huggingface-hub>=0.21.2 in /usr/local/lib/python3.10/dist-packages (from datasets) (0.23.5)\n",
            "Requirement already satisfied: packaging in /usr/local/lib/python3.10/dist-packages (from datasets) (24.1)\n",
            "Requirement already satisfied: pyyaml>=5.1 in /usr/local/lib/python3.10/dist-packages (from datasets) (6.0.1)\n",
            "Requirement already satisfied: aiosignal>=1.1.2 in /usr/local/lib/python3.10/dist-packages (from aiohttp->datasets) (1.3.1)\n",
            "Requirement already satisfied: attrs>=17.3.0 in /usr/local/lib/python3.10/dist-packages (from aiohttp->datasets) (23.2.0)\n",
            "Requirement already satisfied: frozenlist>=1.1.1 in /usr/local/lib/python3.10/dist-packages (from aiohttp->datasets) (1.4.1)\n",
            "Requirement already satisfied: multidict<7.0,>=4.5 in /usr/local/lib/python3.10/dist-packages (from aiohttp->datasets) (6.0.5)\n",
            "Requirement already satisfied: yarl<2.0,>=1.0 in /usr/local/lib/python3.10/dist-packages (from aiohttp->datasets) (1.9.4)\n",
            "Requirement already satisfied: async-timeout<5.0,>=4.0 in /usr/local/lib/python3.10/dist-packages (from aiohttp->datasets) (4.0.3)\n",
            "Requirement already satisfied: typing-extensions>=3.7.4.3 in /usr/local/lib/python3.10/dist-packages (from huggingface-hub>=0.21.2->datasets) (4.12.2)\n",
            "Requirement already satisfied: charset-normalizer<4,>=2 in /usr/local/lib/python3.10/dist-packages (from requests>=2.32.2->datasets) (3.3.2)\n",
            "Requirement already satisfied: idna<4,>=2.5 in /usr/local/lib/python3.10/dist-packages (from requests>=2.32.2->datasets) (3.7)\n",
            "Requirement already satisfied: urllib3<3,>=1.21.1 in /usr/local/lib/python3.10/dist-packages (from requests>=2.32.2->datasets) (2.0.7)\n",
            "Requirement already satisfied: certifi>=2017.4.17 in /usr/local/lib/python3.10/dist-packages (from requests>=2.32.2->datasets) (2024.7.4)\n",
            "Requirement already satisfied: python-dateutil>=2.8.2 in /usr/local/lib/python3.10/dist-packages (from pandas->datasets) (2.8.2)\n",
            "Requirement already satisfied: pytz>=2020.1 in /usr/local/lib/python3.10/dist-packages (from pandas->datasets) (2024.1)\n",
            "Requirement already satisfied: tzdata>=2022.1 in /usr/local/lib/python3.10/dist-packages (from pandas->datasets) (2024.1)\n",
            "Requirement already satisfied: six>=1.5 in /usr/local/lib/python3.10/dist-packages (from python-dateutil>=2.8.2->pandas->datasets) (1.16.0)\n"
          ]
        }
      ]
    },
    {
      "cell_type": "markdown",
      "source": [
        "# Load the MINDS-14 Dataset\n",
        "In this step, we will load the MINDS-14 dataset using the datasets library from Hugging Face. This dataset contains examples of spoken language understanding (SLU) data for various languages and dialects. We will load the English (Australia) subset of the dataset for the training split."
      ],
      "metadata": {
        "id": "jkt8TUYa56Yl"
      }
    },
    {
      "cell_type": "code",
      "source": [
        "from datasets import load_dataset\n",
        "\n",
        "minds = load_dataset(\"PolyAI/minds14\", name=\"en-AU\", split=\"train\")"
      ],
      "metadata": {
        "id": "HnbjB4e6wqTI"
      },
      "execution_count": null,
      "outputs": []
    },
    {
      "cell_type": "markdown",
      "source": [
        "# Access Audio Data from the MINDS-14 Dataset\n",
        "In this step, we will extract the audio data from the MINDS-14 dataset and access a sample from the training split. This will help us understand the structure of the data and how to work with individual audio samples."
      ],
      "metadata": {
        "id": "J58cFubt6Amp"
      }
    },
    {
      "cell_type": "code",
      "source": [
        "train_dataset = minds['audio']\n",
        "\n",
        "# Access data from the first sample in the training split\n",
        "audio_input = train_dataset[0]\n"
      ],
      "metadata": {
        "id": "piwdguWcyg0x"
      },
      "execution_count": null,
      "outputs": []
    },
    {
      "cell_type": "markdown",
      "source": [
        "# Set Up an Audio Classification Pipeline\n",
        "In this step, we will set up an audio classification pipeline using the transformers library from Hugging Face. This pipeline will use a pre-trained model specifically designed for audio classification tasks. We'll configure the pipeline to use the xtreme_s_xlsr_300m_minds14 model."
      ],
      "metadata": {
        "id": "unF9kPgj6CTi"
      }
    },
    {
      "cell_type": "code",
      "source": [
        "from transformers import pipeline\n",
        "\n",
        "classifier = pipeline(\n",
        "    \"audio-classification\",\n",
        "    model=\"anton-l/xtreme_s_xlsr_300m_minds14\",\n",
        ")"
      ],
      "metadata": {
        "colab": {
          "base_uri": "https://localhost:8080/"
        },
        "id": "R4lgh4ijw07o",
        "outputId": "c1c3affd-bf28-4133-b2fb-3a8552527573"
      },
      "execution_count": null,
      "outputs": [
        {
          "output_type": "stream",
          "name": "stderr",
          "text": [
            "Some weights of the model checkpoint at anton-l/xtreme_s_xlsr_300m_minds14 were not used when initializing Wav2Vec2ForSequenceClassification: ['wav2vec2.encoder.pos_conv_embed.conv.weight_g', 'wav2vec2.encoder.pos_conv_embed.conv.weight_v']\n",
            "- This IS expected if you are initializing Wav2Vec2ForSequenceClassification from the checkpoint of a model trained on another task or with another architecture (e.g. initializing a BertForSequenceClassification model from a BertForPreTraining model).\n",
            "- This IS NOT expected if you are initializing Wav2Vec2ForSequenceClassification from the checkpoint of a model that you expect to be exactly identical (initializing a BertForSequenceClassification model from a BertForSequenceClassification model).\n",
            "Some weights of Wav2Vec2ForSequenceClassification were not initialized from the model checkpoint at anton-l/xtreme_s_xlsr_300m_minds14 and are newly initialized: ['wav2vec2.encoder.pos_conv_embed.conv.parametrizations.weight.original0', 'wav2vec2.encoder.pos_conv_embed.conv.parametrizations.weight.original1']\n",
            "You should probably TRAIN this model on a down-stream task to be able to use it for predictions and inference.\n"
          ]
        }
      ]
    },
    {
      "cell_type": "code",
      "source": [
        "classifier(minds[0][\"audio\"])"
      ],
      "metadata": {
        "colab": {
          "base_uri": "https://localhost:8080/"
        },
        "id": "-7Ghj6qRxgSN",
        "outputId": "1aa4f933-ea3f-4ab0-c789-5b22dfd76366"
      },
      "execution_count": null,
      "outputs": [
        {
          "output_type": "execute_result",
          "data": {
            "text/plain": [
              "[{'score': 0.9611983895301819, 'label': 'pay_bill'},\n",
              " {'score': 0.0296021718531847, 'label': 'freeze'},\n",
              " {'score': 0.0035503290127962828, 'label': 'card_issues'},\n",
              " {'score': 0.002132321475073695, 'label': 'abroad'},\n",
              " {'score': 0.000882967549841851, 'label': 'high_value_payment'}]"
            ]
          },
          "metadata": {},
          "execution_count": 27
        }
      ]
    },
    {
      "cell_type": "code",
      "source": [
        "prediction = classifier(minds[0][\"audio\"])\n",
        "print(prediction[0]['label'])\n",
        "print(prediction[0][ 'score'])"
      ],
      "metadata": {
        "colab": {
          "base_uri": "https://localhost:8080/"
        },
        "id": "BRFdYepXxiBX",
        "outputId": "8d0971fb-ffcd-43f1-f331-444f23f14a0b"
      },
      "execution_count": null,
      "outputs": [
        {
          "output_type": "stream",
          "name": "stdout",
          "text": [
            "pay_bill\n",
            "0.9611983895301819\n"
          ]
        }
      ]
    },
    {
      "cell_type": "markdown",
      "source": [
        "Different model for SPEECH COMMANDS\n"
      ],
      "metadata": {
        "id": "w6L8a1H22Uu3"
      }
    },
    {
      "cell_type": "code",
      "source": [
        "speech_commands = load_dataset(\n",
        "    \"speech_commands\", \"v0.02\", split=\"validation\", streaming=True\n",
        ")\n",
        "sample = next(iter(speech_commands))"
      ],
      "metadata": {
        "colab": {
          "base_uri": "https://localhost:8080/",
          "height": 150,
          "referenced_widgets": [
            "c1ceb8d825ac4bdaa32e9362fc00767c",
            "530e93ca3cb24a0cbb3aab33269ae422",
            "37d3a0fbdc3e48dfafb5eeebfb7463c6",
            "679bcaede5d3473c84fd6b3090368cb7",
            "e6a082e0d61943a08a0a7b31f00a0a38",
            "79a2a2c72a6d428d80263ec06cba285f",
            "008c6c6beb7d47fb81b110d8a17fab85",
            "92aea2ae0ea64dd591bbdf6d7142cc50",
            "da5365e0264141e09d5c745c44c7f432",
            "d9486e3d1a644305bcd85f2969aa57ec",
            "cb572bf2534d4e30b6ecf119d2ad7a7b",
            "12ad8c6f75d64cd296049642df815670",
            "550e106e2684460a882a4f8c9a0a1aa1",
            "04e4ebe5785a4e6a9ec1ad6a8738a590",
            "e689519dfc8040bfa27cfc03a9605f1f",
            "c0bc6c7f08c04c389ef479163c5347c7",
            "1274ce62576d417e9765a7417dcbfb88",
            "fae01864b5734e04966fe9b7598ccd1c",
            "ac745e81363a400d8ec4296c8a9be642",
            "456aff249176482cad716f5c31bbd27e",
            "0df9a0ca6d0149ea919a8b2a8e675c06",
            "976596cf00294c599a6cf1b98d3dd241"
          ]
        },
        "id": "lBBzJ1HGyNEo",
        "outputId": "e1e4c1e7-9886-4f0d-a358-6d4f9d4a384d"
      },
      "execution_count": null,
      "outputs": [
        {
          "output_type": "display_data",
          "data": {
            "text/plain": [
              "Downloading builder script:   0%|          | 0.00/7.31k [00:00<?, ?B/s]"
            ],
            "application/vnd.jupyter.widget-view+json": {
              "version_major": 2,
              "version_minor": 0,
              "model_id": "c1ceb8d825ac4bdaa32e9362fc00767c"
            }
          },
          "metadata": {}
        },
        {
          "output_type": "display_data",
          "data": {
            "text/plain": [
              "Downloading readme:   0%|          | 0.00/12.1k [00:00<?, ?B/s]"
            ],
            "application/vnd.jupyter.widget-view+json": {
              "version_major": 2,
              "version_minor": 0,
              "model_id": "12ad8c6f75d64cd296049642df815670"
            }
          },
          "metadata": {}
        },
        {
          "name": "stdout",
          "output_type": "stream",
          "text": [
            "The repository for speech_commands contains custom code which must be executed to correctly load the dataset. You can inspect the repository content at https://hf.co/datasets/speech_commands.\n",
            "You can avoid this prompt in future by passing the argument `trust_remote_code=True`.\n",
            "\n",
            "Do you wish to run the custom code? [y/N] y\n"
          ]
        }
      ]
    },
    {
      "cell_type": "markdown",
      "source": [
        "# Classify Audio\n",
        "In this step, we will set up an audio classification pipeline using a different pre-trained model and make a prediction on a sample from our dataset. We will use the MIT/ast-finetuned-speech-commands-v2 model for this task."
      ],
      "metadata": {
        "id": "Hxnv6VfF6RXe"
      }
    },
    {
      "cell_type": "code",
      "source": [
        "classifier = pipeline(\n",
        "    \"audio-classification\", model=\"MIT/ast-finetuned-speech-commands-v2\"\n",
        ")\n",
        "prediction=classifier(sample[\"audio\"].copy())\n",
        "print(prediction[0]['label'])"
      ],
      "metadata": {
        "colab": {
          "base_uri": "https://localhost:8080/"
        },
        "id": "d1jfeK642cYk",
        "outputId": "704558d1-2ded-4520-fe6d-3cb34d48e416"
      },
      "execution_count": null,
      "outputs": [
        {
          "output_type": "stream",
          "name": "stdout",
          "text": [
            "backward\n"
          ]
        }
      ]
    },
    {
      "cell_type": "code",
      "source": [
        "from IPython.display import Audio\n",
        "\n",
        "Audio(sample[\"audio\"][\"array\"], rate=sample[\"audio\"][\"sampling_rate\"])"
      ],
      "metadata": {
        "colab": {
          "base_uri": "https://localhost:8080/",
          "height": 75
        },
        "id": "anhSEPiS2kH1",
        "outputId": "7204d95b-82cb-4f9c-d038-4e822179e653"
      },
      "execution_count": null,
      "outputs": [
        {
          "output_type": "execute_result",
          "data": {
            "text/plain": [
              "<IPython.lib.display.Audio object>"
            ],
            "text/html": [
              "\n",
              "                <audio  controls=\"controls\" >\n",
              "                    <source src=\"data:audio/wav;base64,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\" type=\"audio/wav\" />\n",
              "                    Your browser does not support the audio element.\n",
              "                </audio>\n",
              "              "
            ]
          },
          "metadata": {},
          "execution_count": 34
        }
      ]
    },
    {
      "cell_type": "markdown",
      "source": [
        "# Convert Stereo Audio to Mono\n",
        "In this step, we will define a function to convert a stereo audio file to a mono audio file and save the result. We will use the librosa library to load the audio and soundfile to save the converted audio."
      ],
      "metadata": {
        "id": "XOSaJ1dI6aSY"
      }
    },
    {
      "cell_type": "code",
      "source": [
        "import librosa\n",
        "import soundfile as sf\n",
        "\n",
        "def stereo_to_mono(input_file, output_file):\n",
        "  \"\"\"Converts a stereo audio file to mono and saves it as a new file.\n",
        "\n",
        "  Args:\n",
        "    input_file: Path to the input stereo audio file.\n",
        "    output_file: Path to the output mono audio file.\n",
        "  \"\"\"\n",
        "\n",
        "  # Load the audio file\n",
        "  audio, sample_rate = librosa.load(input_file, sr=None)\n",
        "\n",
        "  # Handle mono and stereo cases\n",
        "  if len(audio.shape) == 2:\n",
        "    # Stereo audio\n",
        "    audio_mono = (audio[:, 0] + audio[:, 1]) / 2\n",
        "  else:\n",
        "    # Mono audio\n",
        "    audio_mono = audio\n",
        "\n",
        "  # Save the mono audio file\n",
        "  sf.write(output_file, audio_mono, sample_rate)\n",
        "\n",
        "if __name__ == \"__main__\":\n",
        "  input_file = \"/content/happy.wav\"\n",
        "  output_file = \"mono_audio.wav\"\n",
        "  stereo_to_mono(input_file, output_file)\n"
      ],
      "metadata": {
        "id": "y7DamRCz4FGI"
      },
      "execution_count": null,
      "outputs": []
    },
    {
      "cell_type": "markdown",
      "source": [
        "# Display the Mono Audio File\n",
        "In this step, we will load and display the mono audio file using IPython's audio display capabilities. This allows us to listen to the audio directly within the notebook."
      ],
      "metadata": {
        "id": "j_Qv8JEF6dcB"
      }
    },
    {
      "cell_type": "code",
      "source": [
        "import IPython.display as ipd\n",
        "\n",
        "# Load the audio file\n",
        "audio_file = '/content/mono_audio.wav'  # Replace with your audio file path\n",
        "\n",
        "# Display the audio\n",
        "ipd.Audio(audio_file)\n"
      ],
      "metadata": {
        "colab": {
          "base_uri": "https://localhost:8080/",
          "height": 75
        },
        "id": "oRyK9_Qs44Hv",
        "outputId": "354341de-171a-4a27-994d-72cf5b118ad4"
      },
      "execution_count": null,
      "outputs": [
        {
          "output_type": "execute_result",
          "data": {
            "text/plain": [
              "<IPython.lib.display.Audio object>"
            ],
            "text/html": [
              "\n",
              "                <audio  controls=\"controls\" >\n",
              "                    <source src=\"data:audio/x-wav;base64,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\" type=\"audio/x-wav\" />\n",
              "                    Your browser does not support the audio element.\n",
              "                </audio>\n",
              "              "
            ]
          },
          "metadata": {},
          "execution_count": 39
        }
      ]
    },
    {
      "cell_type": "markdown",
      "source": [
        "# Resample and Classify Audio\n",
        "In this step, we will load an audio file, resample it to a specific sampling rate if needed, and then classify it using the pre-trained classifier. This process ensures that the audio is in the correct format for the model."
      ],
      "metadata": {
        "id": "7hOM0KWh6iax"
      }
    },
    {
      "cell_type": "code",
      "source": [
        "import soundfile as sf\n",
        "\n",
        "# Load your audio file\n",
        "audio_data, sample_rate = sf.read(\"/content/mono_audio.wav\")\n",
        "\n",
        "# Assuming the model expects a specific sampling rate\n",
        "if sample_rate != 16000:\n",
        "    audio_data = librosa.resample(audio_data, orig_sr=sample_rate, target_sr=16000)\n",
        "\n",
        "# Classify the audio\n",
        "prediction = classifier(audio_data)\n",
        "print(prediction[0]['label'])\n"
      ],
      "metadata": {
        "colab": {
          "base_uri": "https://localhost:8080/"
        },
        "id": "0rKpiGgn5Db9",
        "outputId": "eef1036e-781b-4d46-d1f6-f6426de207c0"
      },
      "execution_count": null,
      "outputs": [
        {
          "output_type": "stream",
          "name": "stdout",
          "text": [
            "happy\n"
          ]
        }
      ]
    }
  ]
}